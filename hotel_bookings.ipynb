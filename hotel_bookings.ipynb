{
 "cells": [
  {
   "cell_type": "code",
   "execution_count": 202,
   "metadata": {},
   "outputs": [],
   "source": [
    "import pandas as pd\n",
    "import numpy as np\n",
    "from plotly import graph_objs as go\n",
    "from plotly.offline import init_notebook_mode, iplot\n",
    "import plotly.io as pio\n",
    "pio.renderers.default='notebook'\n",
    "import plotly.figure_factory as ff\n",
    "from plotly.subplots import make_subplots\n",
    "from codes import country_codes\n",
    "import seaborn as sns\n",
    "sns.set(style=\"whitegrid\")\n",
    "pd.set_option(\"display.max_columns\", 36)"
   ]
  },
  {
   "cell_type": "code",
   "execution_count": 4,
   "metadata": {},
   "outputs": [
    {
     "data": {
      "text/plain": [
       "(119390, 32)"
      ]
     },
     "execution_count": 4,
     "metadata": {},
     "output_type": "execute_result"
    }
   ],
   "source": [
    "hb_df = pd.read_csv('hotel_bookings.csv')\n",
    "hb_df.shape"
   ]
  },
  {
   "cell_type": "code",
   "execution_count": 6,
   "metadata": {},
   "outputs": [
    {
     "data": {
      "text/html": [
       "<div>\n",
       "<style scoped>\n",
       "    .dataframe tbody tr th:only-of-type {\n",
       "        vertical-align: middle;\n",
       "    }\n",
       "\n",
       "    .dataframe tbody tr th {\n",
       "        vertical-align: top;\n",
       "    }\n",
       "\n",
       "    .dataframe thead th {\n",
       "        text-align: right;\n",
       "    }\n",
       "</style>\n",
       "<table border=\"1\" class=\"dataframe\">\n",
       "  <thead>\n",
       "    <tr style=\"text-align: right;\">\n",
       "      <th></th>\n",
       "      <th>hotel</th>\n",
       "      <th>is_canceled</th>\n",
       "      <th>lead_time</th>\n",
       "      <th>arrival_date_year</th>\n",
       "      <th>arrival_date_month</th>\n",
       "      <th>arrival_date_week_number</th>\n",
       "      <th>arrival_date_day_of_month</th>\n",
       "      <th>stays_in_weekend_nights</th>\n",
       "      <th>stays_in_week_nights</th>\n",
       "      <th>adults</th>\n",
       "      <th>...</th>\n",
       "      <th>deposit_type</th>\n",
       "      <th>agent</th>\n",
       "      <th>company</th>\n",
       "      <th>days_in_waiting_list</th>\n",
       "      <th>customer_type</th>\n",
       "      <th>adr</th>\n",
       "      <th>required_car_parking_spaces</th>\n",
       "      <th>total_of_special_requests</th>\n",
       "      <th>reservation_status</th>\n",
       "      <th>reservation_status_date</th>\n",
       "    </tr>\n",
       "  </thead>\n",
       "  <tbody>\n",
       "    <tr>\n",
       "      <th>0</th>\n",
       "      <td>Resort Hotel</td>\n",
       "      <td>0</td>\n",
       "      <td>342</td>\n",
       "      <td>2015</td>\n",
       "      <td>July</td>\n",
       "      <td>27</td>\n",
       "      <td>1</td>\n",
       "      <td>0</td>\n",
       "      <td>0</td>\n",
       "      <td>2</td>\n",
       "      <td>...</td>\n",
       "      <td>No Deposit</td>\n",
       "      <td>NaN</td>\n",
       "      <td>NaN</td>\n",
       "      <td>0</td>\n",
       "      <td>Transient</td>\n",
       "      <td>0.0</td>\n",
       "      <td>0</td>\n",
       "      <td>0</td>\n",
       "      <td>Check-Out</td>\n",
       "      <td>2015-07-01</td>\n",
       "    </tr>\n",
       "    <tr>\n",
       "      <th>1</th>\n",
       "      <td>Resort Hotel</td>\n",
       "      <td>0</td>\n",
       "      <td>737</td>\n",
       "      <td>2015</td>\n",
       "      <td>July</td>\n",
       "      <td>27</td>\n",
       "      <td>1</td>\n",
       "      <td>0</td>\n",
       "      <td>0</td>\n",
       "      <td>2</td>\n",
       "      <td>...</td>\n",
       "      <td>No Deposit</td>\n",
       "      <td>NaN</td>\n",
       "      <td>NaN</td>\n",
       "      <td>0</td>\n",
       "      <td>Transient</td>\n",
       "      <td>0.0</td>\n",
       "      <td>0</td>\n",
       "      <td>0</td>\n",
       "      <td>Check-Out</td>\n",
       "      <td>2015-07-01</td>\n",
       "    </tr>\n",
       "  </tbody>\n",
       "</table>\n",
       "<p>2 rows × 32 columns</p>\n",
       "</div>"
      ],
      "text/plain": [
       "          hotel  is_canceled  lead_time  arrival_date_year arrival_date_month  \\\n",
       "0  Resort Hotel            0        342               2015               July   \n",
       "1  Resort Hotel            0        737               2015               July   \n",
       "\n",
       "   arrival_date_week_number  arrival_date_day_of_month  \\\n",
       "0                        27                          1   \n",
       "1                        27                          1   \n",
       "\n",
       "   stays_in_weekend_nights  stays_in_week_nights  adults  \\\n",
       "0                        0                     0       2   \n",
       "1                        0                     0       2   \n",
       "\n",
       "            ...            deposit_type  agent company days_in_waiting_list  \\\n",
       "0           ...              No Deposit    NaN     NaN                    0   \n",
       "1           ...              No Deposit    NaN     NaN                    0   \n",
       "\n",
       "  customer_type  adr  required_car_parking_spaces  total_of_special_requests  \\\n",
       "0     Transient  0.0                            0                          0   \n",
       "1     Transient  0.0                            0                          0   \n",
       "\n",
       "   reservation_status reservation_status_date  \n",
       "0           Check-Out              2015-07-01  \n",
       "1           Check-Out              2015-07-01  \n",
       "\n",
       "[2 rows x 32 columns]"
      ]
     },
     "execution_count": 6,
     "metadata": {},
     "output_type": "execute_result"
    }
   ],
   "source": [
    "hb_df.head(2)"
   ]
  },
  {
   "cell_type": "code",
   "execution_count": 7,
   "metadata": {},
   "outputs": [
    {
     "data": {
      "text/plain": [
       "Index(['hotel', 'is_canceled', 'lead_time', 'arrival_date_year',\n",
       "       'arrival_date_month', 'arrival_date_week_number',\n",
       "       'arrival_date_day_of_month', 'stays_in_weekend_nights',\n",
       "       'stays_in_week_nights', 'adults', 'children', 'babies', 'meal',\n",
       "       'country', 'market_segment', 'distribution_channel',\n",
       "       'is_repeated_guest', 'previous_cancellations',\n",
       "       'previous_bookings_not_canceled', 'reserved_room_type',\n",
       "       'assigned_room_type', 'booking_changes', 'deposit_type', 'agent',\n",
       "       'company', 'days_in_waiting_list', 'customer_type', 'adr',\n",
       "       'required_car_parking_spaces', 'total_of_special_requests',\n",
       "       'reservation_status', 'reservation_status_date'],\n",
       "      dtype='object')"
      ]
     },
     "execution_count": 7,
     "metadata": {},
     "output_type": "execute_result"
    }
   ],
   "source": [
    "hb_df.columns"
   ]
  },
  {
   "cell_type": "code",
   "execution_count": 21,
   "metadata": {},
   "outputs": [
    {
     "name": "stdout",
     "output_type": "stream",
     "text": [
      "data type for hotel: object\n",
      "data type for is_canceled: int64\n",
      "data type for lead_time: int64\n",
      "data type for arrival_date_year: int64\n",
      "data type for arrival_date_month: object\n",
      "data type for arrival_date_week_number: int64\n",
      "data type for arrival_date_day_of_month: int64\n",
      "data type for stays_in_weekend_nights: int64\n",
      "data type for stays_in_week_nights: int64\n",
      "data type for adults: int64\n",
      "data type for children: float64\n",
      "data type for babies: int64\n",
      "data type for meal: object\n",
      "data type for country: object\n",
      "data type for market_segment: object\n",
      "data type for distribution_channel: object\n",
      "data type for is_repeated_guest: int64\n",
      "data type for previous_cancellations: int64\n",
      "data type for previous_bookings_not_canceled: int64\n",
      "data type for reserved_room_type: object\n",
      "data type for assigned_room_type: object\n",
      "data type for booking_changes: int64\n",
      "data type for deposit_type: object\n",
      "data type for agent: float64\n",
      "data type for company: float64\n",
      "data type for days_in_waiting_list: int64\n",
      "data type for customer_type: object\n",
      "data type for adr: float64\n",
      "data type for required_car_parking_spaces: int64\n",
      "data type for total_of_special_requests: int64\n",
      "data type for reservation_status: object\n",
      "data type for reservation_status_date: object\n"
     ]
    }
   ],
   "source": [
    "for i in hb_df.columns:\n",
    "    print('data type for {}: {}'.format(i, hb_df[i].dtype))"
   ]
  },
  {
   "cell_type": "code",
   "execution_count": 17,
   "metadata": {},
   "outputs": [
    {
     "data": {
      "text/plain": [
       "children         4\n",
       "country        488\n",
       "agent        16340\n",
       "company     112593\n",
       "dtype: int64"
      ]
     },
     "execution_count": 17,
     "metadata": {},
     "output_type": "execute_result"
    }
   ],
   "source": [
    "missing_values = hb_df.isnull().sum()\n",
    "missing_values[missing_values>0]"
   ]
  },
  {
   "cell_type": "code",
   "execution_count": 38,
   "metadata": {},
   "outputs": [],
   "source": [
    "hb_df.fillna({'children': 0.0, 'country': 'Unknown', 'agent': 0, 'company': 0}, inplace=True)\n",
    "for_dropping = hb_df[(hb_df['adults'] == 0) & (hb_df['children'] == 0) & (hb_df['babies'] == 0)].index.tolist()\n",
    "hb_df.drop(axis = 0, index = for_dropping, inplace = True)"
   ]
  },
  {
   "cell_type": "code",
   "execution_count": 173,
   "metadata": {},
   "outputs": [],
   "source": [
    "ch = hb_df[(hb_df['hotel'] == 'City Hotel') & (hb_df['is_canceled'] !=0)]\n",
    "rh = hb_df[(hb_df['hotel'] == 'Resort Hotel') & (hb_df['is_canceled'] !=0)]"
   ]
  },
  {
   "cell_type": "code",
   "execution_count": 182,
   "metadata": {},
   "outputs": [],
   "source": [
    "countries = hb_df['country'].value_counts().reset_index()\n",
    "countries.rename(columns = {'index' : 'country', 'country': 'no_of_guests'}, inplace = True)\n",
    "countries['%_of_total_guests'] = (countries['no_of_guests']/countries['no_of_guests'].sum())*100"
   ]
  },
  {
   "cell_type": "code",
   "execution_count": 183,
   "metadata": {},
   "outputs": [],
   "source": [
    "top_countries = countries.loc[0:9]\n",
    "others = {'country':'Others', 'no_of_guests': countries.loc[10:]['no_of_guests'].sum(), '%_of_total_guests': countries.loc[10:]['%_of_total_guests'].sum()}\n",
    "top_countries = top_countries.append(others, ignore_index=True)"
   ]
  },
  {
   "cell_type": "code",
   "execution_count": 184,
   "metadata": {},
   "outputs": [
    {
     "data": {
      "text/html": [
       "<div>\n",
       "        \n",
       "        \n",
       "            <div id=\"ebc96564-c63c-41dd-9692-c0c877ada264\" class=\"plotly-graph-div\" style=\"height:500px; width:100%;\"></div>\n",
       "            <script type=\"text/javascript\">\n",
       "                require([\"plotly\"], function(Plotly) {\n",
       "                    window.PLOTLYENV=window.PLOTLYENV || {};\n",
       "                    window.PLOTLYENV.BASE_URL='https://plot.ly';\n",
       "                    \n",
       "                if (document.getElementById(\"ebc96564-c63c-41dd-9692-c0c877ada264\")) {\n",
       "                    Plotly.newPlot(\n",
       "                        'ebc96564-c63c-41dd-9692-c0c877ada264',\n",
       "                        [{\"labels\": [\"PRT\", \"GBR\", \"FRA\", \"ESP\", \"DEU\", \"ITA\", \"IRL\", \"BEL\", \"BRA\", \"NLD\", \"Others\"], \"marker\": {\"colors\": [\"#8ao49b\", \"#z028de\"]}, \"pull\": [0.04, 0], \"type\": \"pie\", \"uid\": \"c67f283d-8cff-417d-b503-52d7d67d85a5\", \"values\": [48483, 12120, 10401, 8560, 7285, 3761, 3374, 2342, 2222, 2103, 18559]}],\n",
       "                        {\"height\": 500, \"legend\": {\"x\": 0.1, \"y\": 1.1}, \"title\": {\"text\": \"Top 10 Countries Where Guests Visit From\"}},\n",
       "                        {\"plotlyServerURL\": \"https://plot.ly\", \"responsive\": true}\n",
       "                    ).then(function(){\n",
       "                            \n",
       "var gd = document.getElementById('ebc96564-c63c-41dd-9692-c0c877ada264');\n",
       "var x = new MutationObserver(function (mutations, observer) {{\n",
       "        var display = window.getComputedStyle(gd).display;\n",
       "        if (!display || display === 'none') {{\n",
       "            console.log([gd, 'removed!']);\n",
       "            Plotly.purge(gd);\n",
       "            observer.disconnect();\n",
       "        }}\n",
       "}});\n",
       "\n",
       "// Listen for the removal of the full notebook cells\n",
       "var notebookContainer = gd.closest('#notebook-container');\n",
       "if (notebookContainer) {{\n",
       "    x.observe(notebookContainer, {childList: true});\n",
       "}}\n",
       "\n",
       "// Listen for the clearing of the current output cell\n",
       "var outputEl = gd.closest('.output');\n",
       "if (outputEl) {{\n",
       "    x.observe(outputEl, {childList: true});\n",
       "}}\n",
       "\n",
       "                        })\n",
       "                };\n",
       "                });\n",
       "            </script>\n",
       "        </div>"
      ]
     },
     "metadata": {},
     "output_type": "display_data"
    }
   ],
   "source": [
    "trace = go.Pie(labels = top_countries['country'], values = top_countries['no_of_guests'], pull=[0.04, 0], marker=dict(colors=[\"#8ao49b\", \"#z028de\"]))\n",
    "layout = go.Layout(title=\"Top 10 Countries Where Guests Visit From\", height=500, legend=dict(x=0.1, y=1.1))\n",
    "fig = go.Figure(data = [trace], layout = layout)\n",
    "fig.show()"
   ]
  },
  {
   "cell_type": "code",
   "execution_count": 185,
   "metadata": {},
   "outputs": [],
   "source": [
    "for_dropping = countries[(countries['country'] == 'CN')].index.tolist()\n",
    "countries.drop(axis = 0, index = for_dropping, inplace = True)\n",
    "for_dropping = countries[(countries['country'] == 'Unknown')].index.tolist()\n",
    "countries.drop(axis = 0, index = for_dropping, inplace = True)"
   ]
  },
  {
   "cell_type": "code",
   "execution_count": 190,
   "metadata": {},
   "outputs": [],
   "source": [
    "country_codes = {v: k for k, v in country_codes.items()}"
   ]
  },
  {
   "cell_type": "code",
   "execution_count": 191,
   "metadata": {},
   "outputs": [],
   "source": [
    "countries['country_name'] = ''\n",
    "for i, r in countries.iterrows():\n",
    "    if r['country'] in list(country_codes.keys()):\n",
    "        countries.loc[i,'country_names'] = country_codes[r['country']]"
   ]
  },
  {
   "cell_type": "code",
   "execution_count": 192,
   "metadata": {},
   "outputs": [
    {
     "data": {
      "text/html": [
       "<div>\n",
       "        \n",
       "        \n",
       "            <div id=\"108c5098-c575-42ba-a0da-5789de1541be\" class=\"plotly-graph-div\" style=\"height:700px; width:1000px;\"></div>\n",
       "            <script type=\"text/javascript\">\n",
       "                require([\"plotly\"], function(Plotly) {\n",
       "                    window.PLOTLYENV=window.PLOTLYENV || {};\n",
       "                    window.PLOTLYENV.BASE_URL='https://plot.ly';\n",
       "                    \n",
       "                if (document.getElementById(\"108c5098-c575-42ba-a0da-5789de1541be\")) {\n",
       "                    Plotly.newPlot(\n",
       "                        '108c5098-c575-42ba-a0da-5789de1541be',\n",
       "                        [{\"autocolorscale\": false, \"colorscale\": [[0, \"rgb(5, 10, 172)\"], [0.65, \"rgb(40, 60, 190)\"], [0.75, \"rgb(70, 100, 245)\"], [0.8, \"rgb(90, 120, 245)\"], [0.9, \"rgb(106, 137, 247)\"], [1, \"rgb(220, 220, 220)\"]], \"locationmode\": \"country names\", \"locations\": [\"portugal\", \"united kingdom\", \"france\", \"spain\", \"germany\", \"italy\", \"ireland\", \"belgium\", \"brazil\", \"netherlands\", \"united states\", \"switzerland\", \"austria\", \"sweden\", \"china\", \"poland\", \"israel\", \"russia\", \"norway\", \"romania\", \"finland\", \"denmark\", \"australia\", \"angola\", \"luxembourg\", \"morocco\", \"turkey\", \"hungary\", \"argentina\", \"japan\", \"czech republic\", \"india\", \"south korea\", \"greece\", \"algeria\", \"serbia\", \"croatia\", \"mexico\", \"estonia\", \"iran\", \"lithuania\", \"south africa\", \"bulgaria\", \"new zealand\", \"colombia\", \"ukraine\", \"mozambique\", \"slovakia\", \"chile\", \"thailand\", \"iceland\", \"slovenia\", \"latvia\", \"taiwan\", \"cyprus\", \"united arab emirates\", \"saudi arabia\", \"philippines\", \"tunisia\", \"singapore\", \"indonesia\", \"nigeria\", \"egypt\", \"uruguay\", \"lebanon\", \"peru\", \"hong kong\", \"malaysia\", \"ecuador\", \"venezuela\", \"belarus\", \"cabo verde\", \"georgia\", \"jordan\", \"costa rica\", \"kazakhstan\", \"oman\", \"gibraltar\", \"malta\", \"azerbaijan\", \"kuwait\", \"macau\", \"qatar\", \"iraq\", \"dominican republic\", \"pakistan\", \"bosnia and herzegovina\", \"puerto rico\", \"bangladesh\", \"maldives\", \"albania\", \"senegal\", \"macedonia\", \"cameroon\", \"bolivia\", \"guinea-bissau\", \"panama\", \"tajikistan\", \"vietnam\", \"jersey\", \"armenia\", \"libya\", \"cuba\", \"andorra\", \"sri lanka\", \"mauritius\", \"kenya\", \"jamaica\", \"cote d'ivoire\", \"suriname\", \"tanzania\", \"faroe islands\", \"central african republic\", \"bahrain\", \"montenegro\", \"ghana\", \"zimbabwe\", \"gabon\", \"barbados\", \"uzbekistan\", \"paraguay\", \"guatemala\", \"monaco\", \"guernsey\", \"syria\", \"liechtenstein\", \"benin\", \"ethiopia\", null, \"uganda\", \"rwanda\", \"malawi\", null, \"el salvador\", \"comoros\", \"isle of man\", \"togo\", null, \"laos\", \"zambia\", \"cambodia\", \"saint kitts and nevis\", \"seychelles\", null, \"sao tome and principe\", \"aruba\", \"american samoa\", \"nicaragua\", \"saint lucia\", \"nepal\", null, null, \"dominica\", \"burkina faso\", \"palau\", \"honduras\", \"namibia\", \"djibouti\", \"fiji\", \"cayman islands\", \"san marino\", \"mali\", null, \"sierra leone\", \"guyana\", \"burundi\", \"mauritania\", \"botswana\", \"sudan\", \"virgin islands\", \"new caledonia\", \"madagascar\", \"french polynesia\", \"burma\", \"anguilla\", \"kiribati\"], \"marker\": {\"line\": {\"color\": \"gray\", \"width\": 0.4}}, \"reversescale\": true, \"type\": \"choropleth\", \"uid\": \"53a30956-6129-46ec-a162-923c0c219612\", \"z\": [48483, 12120, 10401, 8560, 7285, 3761, 3374, 2342, 2222, 2103, 2093, 1726, 1263, 1020, 999, 918, 669, 630, 607, 500, 446, 435, 426, 362, 286, 259, 248, 230, 214, 197, 171, 151, 133, 128, 103, 101, 100, 85, 83, 82, 81, 80, 75, 74, 71, 68, 67, 65, 65, 59, 57, 56, 55, 51, 51, 51, 48, 40, 39, 38, 35, 34, 32, 32, 31, 29, 29, 28, 27, 26, 26, 24, 22, 21, 19, 19, 18, 18, 18, 17, 16, 16, 15, 14, 14, 14, 13, 12, 12, 12, 12, 11, 10, 10, 10, 9, 9, 9, 8, 8, 8, 8, 8, 7, 7, 7, 6, 6, 6, 5, 5, 5, 5, 5, 5, 4, 4, 4, 4, 4, 4, 4, 4, 3, 3, 3, 3, 3, 3, 2, 2, 2, 2, 2, 2, 2, 2, 2, 2, 2, 2, 2, 2, 2, 2, 2, 1, 1, 1, 1, 1, 1, 1, 1, 1, 1, 1, 1, 1, 1, 1, 1, 1, 1, 1, 1, 1, 1, 1, 1, 1, 1, 1, 1, 1, 1]}],\n",
       "                        {\"geo\": {\"projection\": {\"type\": \"mercator\"}, \"showcoastlines\": true, \"showframe\": false}, \"height\": 700, \"title\": {\"text\": \"Countries Where Guests Visit From\"}, \"width\": 1000},\n",
       "                        {\"plotlyServerURL\": \"https://plot.ly\", \"responsive\": true}\n",
       "                    ).then(function(){\n",
       "                            \n",
       "var gd = document.getElementById('108c5098-c575-42ba-a0da-5789de1541be');\n",
       "var x = new MutationObserver(function (mutations, observer) {{\n",
       "        var display = window.getComputedStyle(gd).display;\n",
       "        if (!display || display === 'none') {{\n",
       "            console.log([gd, 'removed!']);\n",
       "            Plotly.purge(gd);\n",
       "            observer.disconnect();\n",
       "        }}\n",
       "}});\n",
       "\n",
       "// Listen for the removal of the full notebook cells\n",
       "var notebookContainer = gd.closest('#notebook-container');\n",
       "if (notebookContainer) {{\n",
       "    x.observe(notebookContainer, {childList: true});\n",
       "}}\n",
       "\n",
       "// Listen for the clearing of the current output cell\n",
       "var outputEl = gd.closest('.output');\n",
       "if (outputEl) {{\n",
       "    x.observe(outputEl, {childList: true});\n",
       "}}\n",
       "\n",
       "                        })\n",
       "                };\n",
       "                });\n",
       "            </script>\n",
       "        </div>"
      ]
     },
     "metadata": {},
     "output_type": "display_data"
    }
   ],
   "source": [
    "data = [dict(\n",
    "            type = 'choropleth',\n",
    "            locationmode='country names',\n",
    "            locations = list(countries['country_names']),\n",
    "            z = list(countries['no_of_guests']),\n",
    "            colorscale = [[0,\"rgb(5, 10, 172)\"],[0.65,\"rgb(40, 60, 190)\"],[0.75,\"rgb(70, 100, 245)\"],\\\n",
    "                        [0.80,\"rgb(90, 120, 245)\"],[0.9,\"rgb(106, 137, 247)\"],[1,\"rgb(220, 220, 220)\"]],\n",
    "            autocolorscale = False,\n",
    "            reversescale = True,\n",
    "            marker = dict(\n",
    "                line = dict (\n",
    "                    color = 'gray',\n",
    "                    width = 0.4\n",
    "                ) ),\n",
    "          ) ]\n",
    "\n",
    "layout = dict(\n",
    "        title = 'Countries Where Guests Visit From',\n",
    "        height = 700,\n",
    "        width = 1000,\n",
    "        geo = dict(\n",
    "            showframe = False,\n",
    "            showcoastlines = True,\n",
    "            projection = dict(\n",
    "                type = 'mercator'\n",
    "            )\n",
    "        )\n",
    "    )\n",
    "\n",
    "\n",
    "\n",
    "fig = go.Figure(data=data, layout=layout)\n",
    "fig.show()"
   ]
  },
  {
   "cell_type": "code",
   "execution_count": 201,
   "metadata": {},
   "outputs": [
    {
     "name": "stdout",
     "output_type": "stream",
     "text": [
      "From all non-cnceled bookings, across all room types and meals, the average prices are:\n",
      "Resort hotel: €51.06 per night per person.\n",
      "City hotel: €57.39 per night per person.\n"
     ]
    }
   ],
   "source": [
    "ch['adr_pp'] = ch['adr']/(ch['adults'] + ch['children'])\n",
    "rh['adr_pp'] = rh['adr']/(rh['adults'] + rh['children'])\n",
    "\n",
    "print(\"\"\"From all non-cnceled bookings, across all room types and meals, the average prices are:\n",
    "Resort hotel: €{:.2f} per night per person.\n",
    "City hotel: €{:.2f} per night per person.\"\"\"\n",
    "      .format(rh[\"adr_pp\"].mean(), ch[\"adr_pp\"].mean()))"
   ]
  },
  {
   "cell_type": "code",
   "execution_count": null,
   "metadata": {},
   "outputs": [],
   "source": []
  }
 ],
 "metadata": {
  "kernelspec": {
   "display_name": "Python 3",
   "language": "python",
   "name": "python3"
  },
  "language_info": {
   "codemirror_mode": {
    "name": "ipython",
    "version": 3
   },
   "file_extension": ".py",
   "mimetype": "text/x-python",
   "name": "python",
   "nbconvert_exporter": "python",
   "pygments_lexer": "ipython3",
   "version": "3.6.5"
  }
 },
 "nbformat": 4,
 "nbformat_minor": 2
}
